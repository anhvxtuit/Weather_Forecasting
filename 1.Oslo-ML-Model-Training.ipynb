{
 "cells": [
  {
   "cell_type": "markdown",
   "metadata": {
    "application/vnd.databricks.v1+cell": {
     "cellMetadata": {
      "byteLimit": 2048000,
      "rowLimit": 10000
     },
     "inputWidgets": {},
     "nuid": "9d849311-877a-4d46-9180-9c3a7b0738e4",
     "showTitle": false,
     "title": ""
    }
   },
   "source": [
    "# Load Python Packages"
   ]
  },
  {
   "cell_type": "code",
   "execution_count": 0,
   "metadata": {
    "_cell_guid": "b1076dfc-b9ad-4769-8c92-a6c4dae69d19",
    "_uuid": "8f2839f25d086af736a60e9eeb907d3b93b6e0e5",
    "application/vnd.databricks.v1+cell": {
     "cellMetadata": {
      "byteLimit": 2048000,
      "rowLimit": 10000
     },
     "inputWidgets": {},
     "nuid": "b84fd6b7-2f63-4b4a-9134-fc389cb6e526",
     "showTitle": false,
     "title": ""
    },
    "execution": {
     "iopub.execute_input": "2023-12-08T08:00:18.818670Z",
     "iopub.status.busy": "2023-12-08T08:00:18.817933Z",
     "iopub.status.idle": "2023-12-08T08:00:19.523025Z",
     "shell.execute_reply": "2023-12-08T08:00:19.521753Z"
    },
    "papermill": {
     "duration": 0.718075,
     "end_time": "2023-12-08T08:00:19.525151",
     "exception": false,
     "start_time": "2023-12-08T08:00:18.807076",
     "status": "completed"
    },
    "tags": []
   },
   "outputs": [
    {
     "output_type": "display_data",
     "data": {
      "application/vnd.databricks.v1+bamboolib_hint": "{\"pd.DataFrames\": [], \"version\": \"0.0.1\"}",
      "text/plain": []
     },
     "metadata": {},
     "output_type": "display_data"
    }
   ],
   "source": [
    "import numpy as np \n",
    "import pandas as pd \n",
    "import os\n",
    "import pyspark"
   ]
  },
  {
   "cell_type": "markdown",
   "metadata": {
    "application/vnd.databricks.v1+cell": {
     "cellMetadata": {
      "byteLimit": 2048000,
      "rowLimit": 10000
     },
     "inputWidgets": {},
     "nuid": "bcc79166-eb04-4963-8143-772b10cf2117",
     "showTitle": false,
     "title": ""
    },
    "papermill": {
     "duration": 0.017178,
     "end_time": "2023-12-08T08:01:06.259524",
     "exception": false,
     "start_time": "2023-12-08T08:01:06.242346",
     "status": "completed"
    },
    "tags": []
   },
   "source": [
    "# Load dataset for weather prediction"
   ]
  },
  {
   "cell_type": "code",
   "execution_count": 0,
   "metadata": {
    "application/vnd.databricks.v1+cell": {
     "cellMetadata": {
      "byteLimit": 2048000,
      "rowLimit": 10000
     },
     "inputWidgets": {},
     "nuid": "e0d0f1fb-51c6-4baa-b043-c31769c68e2a",
     "showTitle": false,
     "title": ""
    },
    "execution": {
     "iopub.execute_input": "2023-12-08T08:01:06.295192Z",
     "iopub.status.busy": "2023-12-08T08:01:06.294750Z",
     "iopub.status.idle": "2023-12-08T08:01:11.344937Z",
     "shell.execute_reply": "2023-12-08T08:01:11.343852Z"
    },
    "papermill": {
     "duration": 5.071263,
     "end_time": "2023-12-08T08:01:11.347813",
     "exception": false,
     "start_time": "2023-12-08T08:01:06.276550",
     "status": "completed"
    },
    "tags": []
   },
   "outputs": [],
   "source": [
    "from pyspark.sql import SparkSession\n",
    "spark = SparkSession.builder.appName('weather_pred').getOrCreate()"
   ]
  },
  {
   "cell_type": "code",
   "execution_count": 0,
   "metadata": {
    "application/vnd.databricks.v1+cell": {
     "cellMetadata": {
      "byteLimit": 2048000,
      "rowLimit": 10000
     },
     "inputWidgets": {},
     "nuid": "fb630856-82ad-46d1-926d-e90b5978a43d",
     "showTitle": false,
     "title": ""
    },
    "execution": {
     "iopub.execute_input": "2023-12-08T08:01:11.385404Z",
     "iopub.status.busy": "2023-12-08T08:01:11.385045Z",
     "iopub.status.idle": "2023-12-08T08:01:18.196912Z",
     "shell.execute_reply": "2023-12-08T08:01:18.195825Z"
    },
    "papermill": {
     "duration": 6.835621,
     "end_time": "2023-12-08T08:01:18.200381",
     "exception": false,
     "start_time": "2023-12-08T08:01:11.364760",
     "status": "completed"
    },
    "tags": []
   },
   "outputs": [],
   "source": [
    "df1 = spark.read.csv('/FileStore/tables/oslo.csv', header=True, inferSchema=True)"
   ]
  },
  {
   "cell_type": "code",
   "execution_count": 0,
   "metadata": {
    "application/vnd.databricks.v1+cell": {
     "cellMetadata": {
      "byteLimit": 2048000,
      "rowLimit": 10000
     },
     "inputWidgets": {},
     "nuid": "5b83a059-5183-4e83-83d3-1523b9f7ad5f",
     "showTitle": false,
     "title": ""
    },
    "execution": {
     "iopub.execute_input": "2023-12-08T08:01:18.299450Z",
     "iopub.status.busy": "2023-12-08T08:01:18.298963Z",
     "iopub.status.idle": "2023-12-08T08:01:18.351914Z",
     "shell.execute_reply": "2023-12-08T08:01:18.350829Z"
    },
    "papermill": {
     "duration": 0.081284,
     "end_time": "2023-12-08T08:01:18.354777",
     "exception": false,
     "start_time": "2023-12-08T08:01:18.273493",
     "status": "completed"
    },
    "tags": []
   },
   "outputs": [
    {
     "output_type": "stream",
     "name": "stdout",
     "output_type": "stream",
     "text": [
      "root\n |-- DATE: integer (nullable = true)\n |-- BBQ_weather: boolean (nullable = true)\n |-- OSLO_cloud_cover: integer (nullable = true)\n |-- OSLO_wind_speed: double (nullable = true)\n |-- OSLO_wind_gust: double (nullable = true)\n |-- OSLO_humidity: double (nullable = true)\n |-- OSLO_pressure: double (nullable = true)\n |-- OSLO_global_radiation: double (nullable = true)\n |-- OSLO_precipitation: double (nullable = true)\n |-- OSLO_sunshine: double (nullable = true)\n |-- OSLO_temp_mean: double (nullable = true)\n |-- OSLO_temp_min: double (nullable = true)\n |-- OSLO_temp_max: double (nullable = true)\n\n"
     ]
    }
   ],
   "source": [
    "df1.printSchema()"
   ]
  },
  {
   "cell_type": "code",
   "execution_count": 0,
   "metadata": {
    "application/vnd.databricks.v1+cell": {
     "cellMetadata": {
      "byteLimit": 2048000,
      "rowLimit": 10000
     },
     "inputWidgets": {},
     "nuid": "b6ef0a82-59fa-49c1-96e7-02bc5e28287f",
     "showTitle": false,
     "title": ""
    },
    "execution": {
     "iopub.execute_input": "2023-12-08T08:01:18.513652Z",
     "iopub.status.busy": "2023-12-08T08:01:18.512722Z",
     "iopub.status.idle": "2023-12-08T08:01:18.586677Z",
     "shell.execute_reply": "2023-12-08T08:01:18.585739Z"
    },
    "papermill": {
     "duration": 0.093992,
     "end_time": "2023-12-08T08:01:18.588752",
     "exception": false,
     "start_time": "2023-12-08T08:01:18.494760",
     "status": "completed"
    },
    "tags": []
   },
   "outputs": [
    {
     "output_type": "stream",
     "name": "stdout",
     "output_type": "stream",
     "text": [
      "Out[5]: ['DATE',\n 'BBQ_weather',\n 'OSLO_cloud_cover',\n 'OSLO_wind_speed',\n 'OSLO_wind_gust',\n 'OSLO_humidity',\n 'OSLO_pressure',\n 'OSLO_global_radiation',\n 'OSLO_precipitation',\n 'OSLO_sunshine',\n 'OSLO_temp_mean',\n 'OSLO_temp_min',\n 'OSLO_temp_max']"
     ]
    }
   ],
   "source": [
    "#pick the columns corresponding to Maastricht\n",
    "df1.columns[0:13]"
   ]
  },
  {
   "cell_type": "code",
   "execution_count": 0,
   "metadata": {
    "application/vnd.databricks.v1+cell": {
     "cellMetadata": {
      "byteLimit": 2048000,
      "rowLimit": 10000
     },
     "inputWidgets": {},
     "nuid": "51a586c6-0723-4f12-8906-7c86ccc410b8",
     "showTitle": false,
     "title": ""
    },
    "execution": {
     "iopub.execute_input": "2023-12-08T08:01:19.107630Z",
     "iopub.status.busy": "2023-12-08T08:01:19.107167Z",
     "iopub.status.idle": "2023-12-08T08:01:19.142985Z",
     "shell.execute_reply": "2023-12-08T08:01:19.142006Z"
    },
    "papermill": {
     "duration": 0.064981,
     "end_time": "2023-12-08T08:01:19.145646",
     "exception": false,
     "start_time": "2023-12-08T08:01:19.080665",
     "status": "completed"
    },
    "tags": []
   },
   "outputs": [],
   "source": [
    "import pyspark.sql.functions as F\n",
    "from functools import reduce\n",
    "\n",
    "#convert the Boolean True/Fase to 0 or 1\n",
    "cols = [\"BBQ_weather\"]\n",
    "df1 = reduce(lambda df, c: df1.withColumn(c, F.when(df[c] == 'false', 0).otherwise(1)), cols, df1)\n"
   ]
  },
  {
   "cell_type": "code",
   "execution_count": 0,
   "metadata": {
    "application/vnd.databricks.v1+cell": {
     "cellMetadata": {
      "byteLimit": 2048000,
      "rowLimit": 10000
     },
     "inputWidgets": {},
     "nuid": "b1392623-edc9-426c-bd85-22698a06bd17",
     "showTitle": false,
     "title": ""
    },
    "execution": {
     "iopub.execute_input": "2023-12-08T08:01:19.192700Z",
     "iopub.status.busy": "2023-12-08T08:01:19.191778Z",
     "iopub.status.idle": "2023-12-08T08:01:19.386769Z",
     "shell.execute_reply": "2023-12-08T08:01:19.385781Z"
    },
    "papermill": {
     "duration": 0.219945,
     "end_time": "2023-12-08T08:01:19.389962",
     "exception": false,
     "start_time": "2023-12-08T08:01:19.170017",
     "status": "completed"
    },
    "tags": []
   },
   "outputs": [
    {
     "output_type": "stream",
     "name": "stdout",
     "output_type": "stream",
     "text": [
      "+--------+-----------+----------------+---------------+--------------+-------------+-------------+---------------------+------------------+-------------+--------------+-------------+-------------+\n|    DATE|BBQ_weather|OSLO_cloud_cover|OSLO_wind_speed|OSLO_wind_gust|OSLO_humidity|OSLO_pressure|OSLO_global_radiation|OSLO_precipitation|OSLO_sunshine|OSLO_temp_mean|OSLO_temp_min|OSLO_temp_max|\n+--------+-----------+----------------+---------------+--------------+-------------+-------------+---------------------+------------------+-------------+--------------+-------------+-------------+\n|20000101|          0|               7|            0.9|           5.1|         0.94|        1.013|                 0.04|               0.6|          0.0|          -5.0|         -8.6|         -3.2|\n|20000102|          0|               6|            1.9|           5.7|         0.94|       1.0076|                 0.11|               0.0|          1.6|          -0.8|         -6.7|          2.4|\n|20000103|          0|               6|            1.7|           8.7|         0.88|       1.0016|                 0.04|               0.0|          0.0|           1.2|         -1.1|          3.8|\n|20000104|          0|               1|            3.4|          11.8|         0.58|       0.9982|                 0.13|               0.0|          5.3|           2.1|         -0.5|          5.1|\n|20000105|          0|               8|            1.2|           5.7|         0.94|       1.0055|                 0.05|              0.06|          0.0|          -0.7|         -4.0|          0.5|\n|20000106|          0|               8|            7.0|          17.0|          0.9|        0.995|                 0.05|              0.13|          0.0|           5.3|         -0.1|          6.5|\n|20000107|          0|               8|            5.3|          15.9|         0.76|       1.0018|                 0.05|               0.0|          0.0|           3.8|          0.4|          6.0|\n|20000108|          0|               4|            6.0|          17.5|         0.78|        0.994|                 0.18|               0.0|          4.7|           5.5|          4.3|          6.4|\n|20000109|          0|               1|            2.9|          10.8|          0.9|       1.0094|                 0.13|               0.0|          5.6|           1.6|         -0.2|          5.0|\n|20000110|          0|               5|            1.5|           6.2|         0.89|       1.0218|                 0.11|               0.0|          2.2|          -0.6|         -3.6|          2.5|\n|20000111|          0|               3|            0.8|           9.8|         0.94|       1.0191|                 0.09|               0.0|          2.8|           1.6|          0.4|          4.8|\n|20000112|          0|               8|            0.7|           9.8|         0.96|        1.011|                 0.03|               0.0|          0.0|           3.0|         -0.2|          4.7|\n|20000113|          0|               6|            1.2|           5.7|         0.79|       1.0146|                 0.03|               0.0|          0.0|           1.5|          1.0|          2.8|\n|20000114|          0|               5|            2.7|           9.3|         0.65|       1.0278|                 0.08|               0.0|          3.1|          -0.5|         -2.6|          1.7|\n|20000115|          0|               4|            1.4|           3.6|         0.84|       1.0278|                 0.15|              0.06|          4.0|          -3.7|         -6.4|         -1.5|\n|20000116|          0|               5|            1.3|           5.1|         0.96|       1.0158|                 0.02|               0.0|          0.0|          -1.8|         -3.2|          0.2|\n|20000117|          0|               1|            7.0|          18.5|         0.41|       1.0051|                 0.21|               0.0|          6.3|           7.7|         -1.0|         10.2|\n|20000118|          0|               0|           10.6|          23.2|         0.37|       1.0132|                 0.19|               0.0|          6.2|           3.4|         -1.1|          4.7|\n|20000119|          0|               4|            2.3|          16.5|         0.64|       1.0208|                 0.07|               0.0|          2.4|          -0.3|         -3.0|          3.0|\n|20000120|          0|               3|            2.2|           8.2|         0.71|       1.0075|                 0.07|              0.18|          2.6|           1.3|         -3.0|          5.7|\n+--------+-----------+----------------+---------------+--------------+-------------+-------------+---------------------+------------------+-------------+--------------+-------------+-------------+\nonly showing top 20 rows\n\n"
     ]
    }
   ],
   "source": [
    "df1.show()"
   ]
  },
  {
   "cell_type": "code",
   "execution_count": 0,
   "metadata": {
    "application/vnd.databricks.v1+cell": {
     "cellMetadata": {
      "byteLimit": 2048000,
      "rowLimit": 10000
     },
     "inputWidgets": {},
     "nuid": "161ee917-ca70-4786-9baa-7fba378fb394",
     "showTitle": false,
     "title": ""
    },
    "execution": {
     "iopub.execute_input": "2023-12-08T08:01:19.443950Z",
     "iopub.status.busy": "2023-12-08T08:01:19.443470Z",
     "iopub.status.idle": "2023-12-08T08:01:19.491877Z",
     "shell.execute_reply": "2023-12-08T08:01:19.490879Z"
    },
    "papermill": {
     "duration": 0.077814,
     "end_time": "2023-12-08T08:01:19.494891",
     "exception": false,
     "start_time": "2023-12-08T08:01:19.417077",
     "status": "completed"
    },
    "tags": []
   },
   "outputs": [
    {
     "output_type": "stream",
     "name": "stdout",
     "output_type": "stream",
     "text": [
      "root\n |-- DATE: integer (nullable = true)\n |-- BBQ_weather: integer (nullable = false)\n |-- OSLO_cloud_cover: integer (nullable = true)\n |-- OSLO_wind_speed: double (nullable = true)\n |-- OSLO_wind_gust: double (nullable = true)\n |-- OSLO_humidity: double (nullable = true)\n |-- OSLO_pressure: double (nullable = true)\n |-- OSLO_global_radiation: double (nullable = true)\n |-- OSLO_precipitation: double (nullable = true)\n |-- OSLO_sunshine: double (nullable = true)\n |-- OSLO_temp_mean: double (nullable = true)\n |-- OSLO_temp_min: double (nullable = true)\n |-- OSLO_temp_max: double (nullable = true)\n\n"
     ]
    }
   ],
   "source": [
    "df1.printSchema()"
   ]
  },
  {
   "cell_type": "markdown",
   "metadata": {
    "application/vnd.databricks.v1+cell": {
     "cellMetadata": {
      "byteLimit": 2048000,
      "rowLimit": 10000
     },
     "inputWidgets": {},
     "nuid": "4fc391ee-c921-4c76-816b-81351ba9401f",
     "showTitle": false,
     "title": ""
    },
    "papermill": {
     "duration": 0.017235,
     "end_time": "2023-12-08T08:01:19.535626",
     "exception": false,
     "start_time": "2023-12-08T08:01:19.518391",
     "status": "completed"
    },
    "tags": []
   },
   "source": [
    "# Convert data to Spark ML format"
   ]
  },
  {
   "cell_type": "code",
   "execution_count": 0,
   "metadata": {
    "application/vnd.databricks.v1+cell": {
     "cellMetadata": {
      "byteLimit": 2048000,
      "rowLimit": 10000
     },
     "inputWidgets": {},
     "nuid": "97a9ca33-0cbe-467f-b543-2e3dd3181511",
     "showTitle": false,
     "title": ""
    },
    "execution": {
     "iopub.execute_input": "2023-12-08T08:01:19.572881Z",
     "iopub.status.busy": "2023-12-08T08:01:19.572150Z",
     "iopub.status.idle": "2023-12-08T08:01:19.773830Z",
     "shell.execute_reply": "2023-12-08T08:01:19.772877Z"
    },
    "papermill": {
     "duration": 0.223131,
     "end_time": "2023-12-08T08:01:19.775807",
     "exception": false,
     "start_time": "2023-12-08T08:01:19.552676",
     "status": "completed"
    },
    "tags": []
   },
   "outputs": [],
   "source": [
    "#The data format required by spark ML is (features, label) so we need to assemble all features into a feature vector. \n",
    "from pyspark.ml.feature import VectorAssembler"
   ]
  },
  {
   "cell_type": "code",
   "execution_count": 0,
   "metadata": {
    "application/vnd.databricks.v1+cell": {
     "cellMetadata": {
      "byteLimit": 2048000,
      "rowLimit": 10000
     },
     "inputWidgets": {},
     "nuid": "23dd6662-c7cf-486f-b62d-76cbe2211cc0",
     "showTitle": false,
     "title": ""
    },
    "execution": {
     "iopub.execute_input": "2023-12-08T08:01:19.811848Z",
     "iopub.status.busy": "2023-12-08T08:01:19.811533Z",
     "iopub.status.idle": "2023-12-08T08:01:19.835096Z",
     "shell.execute_reply": "2023-12-08T08:01:19.834117Z"
    },
    "papermill": {
     "duration": 0.043846,
     "end_time": "2023-12-08T08:01:19.837173",
     "exception": false,
     "start_time": "2023-12-08T08:01:19.793327",
     "status": "completed"
    },
    "tags": []
   },
   "outputs": [],
   "source": [
    "#create an instance of the Assembler which takes in a series of columns to be used as features\n",
    "#and returns a condensed vector\n",
    "assembler = VectorAssembler(inputCols = ['OSLO_cloud_cover',\n",
    " 'OSLO_wind_speed',\n",
    " 'OSLO_wind_gust',\n",
    " 'OSLO_humidity',\n",
    " 'OSLO_pressure',\n",
    " 'OSLO_global_radiation',\n",
    " 'OSLO_precipitation',\n",
    " 'OSLO_sunshine',\n",
    " 'OSLO_temp_mean',\n",
    " 'OSLO_temp_min',\n",
    " 'OSLO_temp_max'], outputCol = 'features')"
   ]
  },
  {
   "cell_type": "code",
   "execution_count": 0,
   "metadata": {
    "application/vnd.databricks.v1+cell": {
     "cellMetadata": {
      "byteLimit": 2048000,
      "rowLimit": 10000
     },
     "inputWidgets": {},
     "nuid": "39303722-2ecc-405f-8321-6d49468f31bb",
     "showTitle": false,
     "title": ""
    },
    "execution": {
     "iopub.execute_input": "2023-12-08T08:01:19.872554Z",
     "iopub.status.busy": "2023-12-08T08:01:19.872280Z",
     "iopub.status.idle": "2023-12-08T08:01:20.016035Z",
     "shell.execute_reply": "2023-12-08T08:01:20.014939Z"
    },
    "papermill": {
     "duration": 0.164853,
     "end_time": "2023-12-08T08:01:20.019199",
     "exception": false,
     "start_time": "2023-12-08T08:01:19.854346",
     "status": "completed"
    },
    "tags": []
   },
   "outputs": [],
   "source": [
    "#Call the 'transform' method on the dataframe returns a new dataframe with the newly created 'features' column\n",
    "# Chi tranform cac cot co khai bao trong VectorAssembler, cac cot con lai giu nguyen\n",
    "data = assembler.transform(df1)"
   ]
  },
  {
   "cell_type": "code",
   "execution_count": 0,
   "metadata": {
    "application/vnd.databricks.v1+cell": {
     "cellMetadata": {
      "byteLimit": 2048000,
      "rowLimit": 10000
     },
     "inputWidgets": {},
     "nuid": "2f58eeef-1929-4e21-86b1-344f707f1b34",
     "showTitle": false,
     "title": ""
    },
    "execution": {
     "iopub.execute_input": "2023-12-08T08:01:20.070840Z",
     "iopub.status.busy": "2023-12-08T08:01:20.070476Z",
     "iopub.status.idle": "2023-12-08T08:01:21.339956Z",
     "shell.execute_reply": "2023-12-08T08:01:21.338999Z"
    },
    "papermill": {
     "duration": 1.298819,
     "end_time": "2023-12-08T08:01:21.343356",
     "exception": false,
     "start_time": "2023-12-08T08:01:20.044537",
     "status": "completed"
    },
    "tags": []
   },
   "outputs": [
    {
     "output_type": "stream",
     "name": "stdout",
     "output_type": "stream",
     "text": [
      "+--------+--------------------+-----------+\n|    DATE|            features|BBQ_weather|\n+--------+--------------------+-----------+\n|20000101|[7.0,0.9,5.1,0.94...|          0|\n|20000102|[6.0,1.9,5.7,0.94...|          0|\n|20000103|[6.0,1.7,8.7,0.88...|          0|\n|20000104|[1.0,3.4,11.8,0.5...|          0|\n|20000105|[8.0,1.2,5.7,0.94...|          0|\n|20000106|[8.0,7.0,17.0,0.9...|          0|\n|20000107|[8.0,5.3,15.9,0.7...|          0|\n|20000108|[4.0,6.0,17.5,0.7...|          0|\n|20000109|[1.0,2.9,10.8,0.9...|          0|\n|20000110|[5.0,1.5,6.2,0.89...|          0|\n|20000111|[3.0,0.8,9.8,0.94...|          0|\n|20000112|[8.0,0.7,9.8,0.96...|          0|\n|20000113|[6.0,1.2,5.7,0.79...|          0|\n|20000114|[5.0,2.7,9.3,0.65...|          0|\n|20000115|[4.0,1.4,3.6,0.84...|          0|\n|20000116|[5.0,1.3,5.1,0.96...|          0|\n|20000117|[1.0,7.0,18.5,0.4...|          0|\n|20000118|[0.0,10.6,23.2,0....|          0|\n|20000119|[4.0,2.3,16.5,0.6...|          0|\n|20000120|[3.0,2.2,8.2,0.71...|          0|\n|20000121|[4.0,2.1,10.8,0.6...|          0|\n|20000122|[8.0,2.2,7.2,0.92...|          0|\n|20000123|[4.0,2.0,8.7,0.82...|          0|\n|20000124|[8.0,1.2,4.1,0.93...|          0|\n|20000125|[6.0,0.3,3.1,0.93...|          0|\n|20000126|[6.0,0.8,3.6,0.93...|          0|\n|20000127|[8.0,1.3,8.7,0.78...|          0|\n|20000128|[6.0,0.8,12.3,0.7...|          0|\n|20000129|[7.0,5.3,14.9,0.9...|          0|\n|20000130|[3.0,5.2,22.1,0.4...|          0|\n|20000131|[4.0,3.6,9.3,0.66...|          0|\n|20000201|[6.0,2.2,5.1,0.85...|          0|\n|20000202|[5.0,1.0,5.1,0.94...|          0|\n|20000203|[3.0,1.0,8.7,0.7,...|          0|\n|20000204|[7.0,1.9,12.3,0.8...|          0|\n|20000205|[7.0,1.0,4.6,0.94...|          0|\n|20000206|[5.0,1.9,8.7,0.8,...|          0|\n|20000207|[7.0,5.8,14.4,0.7...|          0|\n|20000208|[3.0,1.9,9.8,0.82...|          0|\n|20000209|[4.0,1.5,8.7,0.67...|          0|\n|20000210|[7.0,5.6,15.4,0.8...|          0|\n|20000211|[4.0,4.1,15.9,0.6...|          0|\n|20000212|[8.0,5.7,17.0,0.9...|          0|\n|20000213|[4.0,3.9,8.7,0.77...|          0|\n|20000214|[3.0,2.2,9.3,0.6,...|          0|\n|20000215|[8.0,1.5,5.7,0.95...|          0|\n|20000216|[3.0,2.2,6.2,0.83...|          0|\n|20000217|[3.0,0.7,4.6,0.83...|          0|\n|20000218|[6.0,2.5,7.2,0.89...|          0|\n|20000219|[1.0,1.7,6.7,0.85...|          0|\n|20000220|[1.0,1.2,3.6,0.69...|          0|\n|20000221|[2.0,1.5,5.7,0.78...|          0|\n|20000222|[8.0,2.4,5.1,0.89...|          0|\n|20000223|[7.0,2.1,7.7,0.89...|          0|\n|20000224|[6.0,2.7,8.7,0.94...|          0|\n|20000225|[3.0,1.2,4.6,0.9,...|          0|\n|20000226|[6.0,1.0,4.1,0.91...|          0|\n|20000227|[8.0,6.7,15.4,0.9...|          0|\n|20000228|[7.0,3.1,13.9,0.8...|          0|\n|20000229|[7.0,5.6,12.9,0.8...|          0|\n|20000301|[5.0,2.0,10.8,0.7...|          0|\n|20000302|[4.0,3.8,10.3,0.4...|          0|\n|20000303|[7.0,3.4,14.4,0.8...|          0|\n|20000304|[6.0,5.3,18.0,0.4...|          0|\n|20000305|[5.0,2.6,14.4,0.5...|          0|\n|20000306|[7.0,3.8,16.5,0.7...|          0|\n|20000307|[4.0,3.8,15.4,0.4...|          0|\n|20000308|[8.0,2.1,7.2,0.88...|          0|\n|20000309|[2.0,4.5,14.4,0.5...|          0|\n|20000310|[6.0,2.0,10.3,0.4...|          0|\n|20000311|[3.0,3.3,7.2,0.71...|          0|\n|20000312|[3.0,1.5,5.1,0.75...|          0|\n|20000313|[7.0,1.7,4.6,0.94...|          0|\n|20000314|[3.0,3.9,15.9,0.4...|          0|\n|20000315|[4.0,2.1,11.3,0.4...|          0|\n|20000316|[7.0,1.0,9.3,0.74...|          0|\n|20000317|[8.0,0.7,3.6,0.88...|          0|\n|20000318|[3.0,2.9,17.5,0.6...|          0|\n|20000319|[8.0,0.7,4.1,0.8,...|          0|\n|20000320|[4.0,4.5,12.3,0.6...|          0|\n|20000321|[5.0,2.0,9.3,0.68...|          0|\n|20000322|[4.0,2.7,10.8,0.6...|          0|\n|20000323|[4.0,4.1,13.4,0.4...|          0|\n|20000324|[5.0,1.2,10.3,0.5...|          0|\n|20000325|[8.0,1.9,5.1,0.56...|          0|\n|20000326|[7.0,3.2,9.8,0.67...|          0|\n|20000327|[2.0,4.6,12.9,0.4...|          0|\n|20000328|[2.0,1.5,6.2,0.5,...|          0|\n|20000329|[5.0,1.4,4.6,0.62...|          0|\n|20000330|[1.0,2.2,6.7,0.62...|          0|\n|20000331|[8.0,1.4,5.1,0.98...|          0|\n|20000401|[8.0,5.6,12.3,0.5...|          0|\n|20000402|[8.0,2.8,8.7,0.9,...|          0|\n|20000403|[8.0,5.9,11.8,0.9...|          0|\n|20000404|[8.0,5.3,12.9,0.8...|          0|\n|20000405|[1.0,5.8,14.4,0.4...|          0|\n|20000406|[5.0,1.0,10.8,0.6...|          0|\n|20000407|[4.0,1.4,7.7,0.58...|          0|\n|20000408|[7.0,0.8,4.6,0.67...|          0|\n|20000409|[2.0,1.5,6.2,0.66...|          0|\n|20000410|[4.0,2.1,7.7,0.7,...|          0|\n|20000411|[8.0,2.1,6.2,0.78...|          0|\n|20000412|[5.0,4.6,10.8,0.7...|          0|\n|20000413|[8.0,8.7,18.5,0.8...|          0|\n|20000414|[7.0,2.4,14.4,0.6...|          0|\n|20000415|[6.0,2.6,8.7,0.82...|          0|\n|20000416|[8.0,4.0,10.3,0.8...|          0|\n|20000417|[8.0,1.9,8.2,0.92...|          0|\n|20000418|[7.0,4.1,11.8,0.8...|          0|\n|20000419|[8.0,1.2,8.2,0.77...|          0|\n|20000420|[7.0,2.4,7.2,0.79...|          0|\n|20000421|[8.0,2.2,8.2,0.95...|          0|\n|20000422|[7.0,3.3,11.3,0.8...|          0|\n|20000423|[8.0,0.8,7.7,0.94...|          0|\n|20000424|[8.0,2.7,6.7,0.86...|          0|\n|20000425|[3.0,2.7,9.3,0.65...|          0|\n|20000426|[8.0,3.1,9.3,0.7,...|          0|\n|20000427|[8.0,2.9,12.9,0.8...|          0|\n|20000428|[6.0,6.2,12.3,0.7...|          0|\n|20000429|[4.0,3.6,9.8,0.64...|          1|\n|20000430|[5.0,1.5,7.7,0.7,...|          0|\n|20000501|[7.0,4.6,8.7,0.88...|          0|\n|20000502|[8.0,1.0,8.2,0.96...|          0|\n|20000503|[4.0,3.1,10.8,0.6...|          0|\n|20000504|[3.0,2.4,9.3,0.49...|          0|\n|20000505|[4.0,1.2,6.7,0.57...|          1|\n|20000506|[1.0,3.3,12.3,0.4...|          1|\n|20000507|[2.0,2.7,8.2,0.66...|          1|\n|20000508|[1.0,1.2,5.1,0.5,...|          1|\n|20000509|[1.0,2.7,8.7,0.57...|          1|\n|20000510|[4.0,2.4,7.7,0.55...|          1|\n|20000511|[5.0,5.2,14.4,0.3...|          1|\n|20000512|[2.0,2.4,10.8,0.4...|          0|\n|20000513|[2.0,2.4,6.7,0.54...|          1|\n|20000514|[2.0,1.9,7.7,0.65...|          1|\n|20000515|[1.0,2.7,7.7,0.54...|          1|\n|20000516|[5.0,2.7,9.8,0.55...|          1|\n|20000517|[7.0,1.9,12.3,0.8...|          0|\n|20000518|[6.0,4.6,11.8,0.6...|          0|\n|20000519|[6.0,4.4,11.8,0.7...|          0|\n|20000520|[3.0,2.1,9.3,0.67...|          1|\n|20000521|[2.0,2.7,8.2,0.55...|          1|\n|20000522|[6.0,2.4,8.2,0.68...|          0|\n|20000523|[5.0,4.3,12.9,0.7...|          0|\n|20000524|[7.0,3.6,10.8,0.6...|          0|\n|20000525|[7.0,2.2,13.9,0.6...|          0|\n|20000526|[5.0,2.2,14.9,0.7...|          0|\n|20000527|[8.0,2.9,13.9,0.8...|          0|\n|20000528|[6.0,6.2,20.6,0.6...|          0|\n|20000529|[8.0,3.5,10.3,0.8...|          0|\n+--------+--------------------+-----------+\nonly showing top 150 rows\n\n"
     ]
    }
   ],
   "source": [
    "# Chon 3 cot DATE, features va Label de tao bo dataset, sau do chia thanh Train 70 Test 30\n",
    "final_data = data.select(['DATE','features','BBQ_weather'])\n",
    "final_data.show(150)"
   ]
  },
  {
   "cell_type": "markdown",
   "metadata": {
    "application/vnd.databricks.v1+cell": {
     "cellMetadata": {
      "byteLimit": 2048000,
      "rowLimit": 10000
     },
     "inputWidgets": {},
     "nuid": "40e93bf8-daef-46f8-888b-575bf1affa0f",
     "showTitle": false,
     "title": ""
    },
    "papermill": {
     "duration": 0.026126,
     "end_time": "2023-12-08T08:01:21.395457",
     "exception": false,
     "start_time": "2023-12-08T08:01:21.369331",
     "status": "completed"
    },
    "tags": []
   },
   "source": [
    "# Training and Predicting with ML Models: DecisionTree, RandomForest, Gradient-boosted Tree "
   ]
  },
  {
   "cell_type": "code",
   "execution_count": 0,
   "metadata": {
    "application/vnd.databricks.v1+cell": {
     "cellMetadata": {
      "byteLimit": 2048000,
      "rowLimit": 10000
     },
     "inputWidgets": {},
     "nuid": "7050ca01-93b4-47a7-8e0b-f49ad4fe8797",
     "showTitle": false,
     "title": ""
    },
    "execution": {
     "iopub.execute_input": "2023-12-08T08:01:21.440168Z",
     "iopub.status.busy": "2023-12-08T08:01:21.439291Z",
     "iopub.status.idle": "2023-12-08T08:01:21.444755Z",
     "shell.execute_reply": "2023-12-08T08:01:21.443802Z"
    },
    "papermill": {
     "duration": 0.026843,
     "end_time": "2023-12-08T08:01:21.446800",
     "exception": false,
     "start_time": "2023-12-08T08:01:21.419957",
     "status": "completed"
    },
    "tags": []
   },
   "outputs": [],
   "source": [
    "from pyspark.ml.classification import DecisionTreeClassifier,GBTClassifier,RandomForestClassifier\n",
    "from pyspark.ml import Pipeline"
   ]
  },
  {
   "cell_type": "code",
   "execution_count": 0,
   "metadata": {
    "application/vnd.databricks.v1+cell": {
     "cellMetadata": {
      "byteLimit": 2048000,
      "rowLimit": 10000
     },
     "inputWidgets": {},
     "nuid": "31424588-d53f-475b-8008-ea29f1f10b56",
     "showTitle": false,
     "title": ""
    },
    "execution": {
     "iopub.execute_input": "2023-12-08T08:01:21.484611Z",
     "iopub.status.busy": "2023-12-08T08:01:21.483653Z",
     "iopub.status.idle": "2023-12-08T08:01:21.512624Z",
     "shell.execute_reply": "2023-12-08T08:01:21.511465Z"
    },
    "papermill": {
     "duration": 0.050846,
     "end_time": "2023-12-08T08:01:21.515514",
     "exception": false,
     "start_time": "2023-12-08T08:01:21.464668",
     "status": "completed"
    },
    "tags": []
   },
   "outputs": [],
   "source": [
    "train_data,test_data = final_data.randomSplit([0.7,0.3])"
   ]
  },
  {
   "cell_type": "code",
   "execution_count": 0,
   "metadata": {
    "application/vnd.databricks.v1+cell": {
     "cellMetadata": {
      "byteLimit": 2048000,
      "rowLimit": 10000
     },
     "inputWidgets": {},
     "nuid": "9010a77b-164e-44c4-9c73-bb3d1e2fdbdc",
     "showTitle": false,
     "title": ""
    },
    "execution": {
     "iopub.execute_input": "2023-12-08T08:01:21.555396Z",
     "iopub.status.busy": "2023-12-08T08:01:21.555031Z",
     "iopub.status.idle": "2023-12-08T08:01:21.626216Z",
     "shell.execute_reply": "2023-12-08T08:01:21.625201Z"
    },
    "papermill": {
     "duration": 0.093231,
     "end_time": "2023-12-08T08:01:21.629372",
     "exception": false,
     "start_time": "2023-12-08T08:01:21.536141",
     "status": "completed"
    },
    "tags": []
   },
   "outputs": [],
   "source": [
    "dtc = DecisionTreeClassifier(labelCol='BBQ_weather',featuresCol='features')\n",
    "rfc = RandomForestClassifier(labelCol='BBQ_weather',featuresCol='features')\n",
    "gbt = GBTClassifier(labelCol='BBQ_weather',featuresCol='features')"
   ]
  },
  {
   "cell_type": "code",
   "execution_count": 0,
   "metadata": {
    "application/vnd.databricks.v1+cell": {
     "cellMetadata": {
      "byteLimit": 2048000,
      "rowLimit": 10000
     },
     "inputWidgets": {},
     "nuid": "ac6e3ed9-59e8-45d0-851e-b6ab44239c80",
     "showTitle": false,
     "title": ""
    },
    "execution": {
     "iopub.execute_input": "2023-12-08T08:01:21.673111Z",
     "iopub.status.busy": "2023-12-08T08:01:21.672391Z",
     "iopub.status.idle": "2023-12-08T08:01:38.215174Z",
     "shell.execute_reply": "2023-12-08T08:01:38.214049Z"
    },
    "papermill": {
     "duration": 16.565064,
     "end_time": "2023-12-08T08:01:38.218317",
     "exception": false,
     "start_time": "2023-12-08T08:01:21.653253",
     "status": "completed"
    },
    "tags": []
   },
   "outputs": [],
   "source": [
    "# Train the models (its three models, so it might take some time)\n",
    "dtc_model = dtc.fit(train_data)\n",
    "rfc_model = rfc.fit(train_data)\n",
    "gbt_model = gbt.fit(train_data)"
   ]
  },
  {
   "cell_type": "code",
   "execution_count": 0,
   "metadata": {
    "application/vnd.databricks.v1+cell": {
     "cellMetadata": {
      "byteLimit": 2048000,
      "rowLimit": 10000
     },
     "inputWidgets": {},
     "nuid": "3390126e-8815-4a8b-9226-8e4b19b46669",
     "showTitle": false,
     "title": ""
    },
    "execution": {
     "iopub.execute_input": "2023-12-08T08:01:38.272198Z",
     "iopub.status.busy": "2023-12-08T08:01:38.271208Z",
     "iopub.status.idle": "2023-12-08T08:01:38.471079Z",
     "shell.execute_reply": "2023-12-08T08:01:38.470318Z"
    },
    "papermill": {
     "duration": 0.228943,
     "end_time": "2023-12-08T08:01:38.473504",
     "exception": false,
     "start_time": "2023-12-08T08:01:38.244561",
     "status": "completed"
    },
    "tags": []
   },
   "outputs": [],
   "source": [
    "#Call 'transform' on the test_data\n",
    "#these will create 3 new dataframes for each model\n",
    "dtc_predictions = dtc_model.transform(test_data)\n",
    "rfc_predictions = rfc_model.transform(test_data)\n",
    "gbt_predictions = gbt_model.transform(test_data)"
   ]
  },
  {
   "cell_type": "code",
   "execution_count": 0,
   "metadata": {
    "application/vnd.databricks.v1+cell": {
     "cellMetadata": {
      "byteLimit": 2048000,
      "rowLimit": 10000
     },
     "inputWidgets": {},
     "nuid": "1603d1b6-44ea-4999-bc27-35d7686ad56b",
     "showTitle": false,
     "title": ""
    },
    "execution": {
     "iopub.execute_input": "2023-12-08T08:01:38.512250Z",
     "iopub.status.busy": "2023-12-08T08:01:38.511894Z",
     "iopub.status.idle": "2023-12-08T08:01:39.038760Z",
     "shell.execute_reply": "2023-12-08T08:01:39.037684Z"
    },
    "papermill": {
     "duration": 0.548664,
     "end_time": "2023-12-08T08:01:39.041732",
     "exception": false,
     "start_time": "2023-12-08T08:01:38.493068",
     "status": "completed"
    },
    "tags": []
   },
   "outputs": [
    {
     "output_type": "stream",
     "name": "stdout",
     "output_type": "stream",
     "text": [
      "+--------+--------------------+-----------+--------------------+--------------------+----------+\n|    DATE|            features|BBQ_weather|       rawPrediction|         probability|prediction|\n+--------+--------------------+-----------+--------------------+--------------------+----------+\n|20000101|[7.0,0.9,5.1,0.94...|          0|[19.9907344548696...|[0.99953672274348...|       0.0|\n|20000103|[6.0,1.7,8.7,0.88...|          0|[19.9907344548696...|[0.99953672274348...|       0.0|\n|20000106|[8.0,7.0,17.0,0.9...|          0|[19.9907344548696...|[0.99953672274348...|       0.0|\n|20000108|[4.0,6.0,17.5,0.7...|          0|[19.9832615565293...|[0.99916307782646...|       0.0|\n|20000112|[8.0,0.7,9.8,0.96...|          0|[19.9907344548696...|[0.99953672274348...|       0.0|\n|20000118|[0.0,10.6,23.2,0....|          0|[19.9953435507342...|[0.99976717753671...|       0.0|\n|20000119|[4.0,2.3,16.5,0.6...|          0|[19.9907103461010...|[0.99953551730505...|       0.0|\n|20000120|[3.0,2.2,8.2,0.71...|          0|[19.9907103461010...|[0.99953551730505...|       0.0|\n|20000121|[4.0,2.1,10.8,0.6...|          0|[19.9953435507342...|[0.99976717753671...|       0.0|\n|20000122|[8.0,2.2,7.2,0.92...|          0|[19.9907344548696...|[0.99953672274348...|       0.0|\n|20000124|[8.0,1.2,4.1,0.93...|          0|[19.9907344548696...|[0.99953672274348...|       0.0|\n|20000127|[8.0,1.3,8.7,0.78...|          0|[19.9891293184331...|[0.99945646592165...|       0.0|\n|20000129|[7.0,5.3,14.9,0.9...|          0|[19.9907344548696...|[0.99953672274348...|       0.0|\n|20000206|[5.0,1.9,8.7,0.8,...|          0|[19.9937625230663...|[0.99968812615331...|       0.0|\n|20000209|[4.0,1.5,8.7,0.67...|          0|[19.9907103461010...|[0.99953551730505...|       0.0|\n|20000210|[7.0,5.6,15.4,0.8...|          0|[19.9907344548696...|[0.99953672274348...|       0.0|\n|20000214|[3.0,2.2,9.3,0.6,...|          0|[19.9969486871708...|[0.99984743435854...|       0.0|\n|20000216|[3.0,2.2,6.2,0.83...|          0|[19.9969486871708...|[0.99984743435854...|       0.0|\n|20000222|[8.0,2.4,5.1,0.89...|          0|[19.9907344548696...|[0.99953672274348...|       0.0|\n|20000224|[6.0,2.7,8.7,0.94...|          0|[19.9907344548696...|[0.99953672274348...|       0.0|\n+--------+--------------------+-----------+--------------------+--------------------+----------+\nonly showing top 20 rows\n\n"
     ]
    }
   ],
   "source": [
    "#let's look at one of the newly created dataframes\n",
    "rfc_predictions.show()"
   ]
  },
  {
   "cell_type": "markdown",
   "metadata": {
    "application/vnd.databricks.v1+cell": {
     "cellMetadata": {
      "byteLimit": 2048000,
      "rowLimit": 10000
     },
     "inputWidgets": {},
     "nuid": "eab6fd79-128d-4761-ad23-087352b9dd04",
     "showTitle": false,
     "title": ""
    },
    "papermill": {
     "duration": 0.025029,
     "end_time": "2023-12-08T08:01:39.093010",
     "exception": false,
     "start_time": "2023-12-08T08:01:39.067981",
     "status": "completed"
    },
    "tags": []
   },
   "source": [
    "# Accuracy evaluation"
   ]
  },
  {
   "cell_type": "code",
   "execution_count": 0,
   "metadata": {
    "application/vnd.databricks.v1+cell": {
     "cellMetadata": {
      "byteLimit": 2048000,
      "rowLimit": 10000
     },
     "inputWidgets": {},
     "nuid": "3b0926fa-c237-4b16-bfd8-071b9e594576",
     "showTitle": false,
     "title": ""
    },
    "execution": {
     "iopub.execute_input": "2023-12-08T08:01:39.144696Z",
     "iopub.status.busy": "2023-12-08T08:01:39.143609Z",
     "iopub.status.idle": "2023-12-08T08:01:39.148930Z",
     "shell.execute_reply": "2023-12-08T08:01:39.147815Z"
    },
    "papermill": {
     "duration": 0.033704,
     "end_time": "2023-12-08T08:01:39.151293",
     "exception": false,
     "start_time": "2023-12-08T08:01:39.117589",
     "status": "completed"
    },
    "tags": []
   },
   "outputs": [],
   "source": [
    "from pyspark.ml.evaluation import MulticlassClassificationEvaluator"
   ]
  },
  {
   "cell_type": "code",
   "execution_count": 0,
   "metadata": {
    "application/vnd.databricks.v1+cell": {
     "cellMetadata": {
      "byteLimit": 2048000,
      "rowLimit": 10000
     },
     "inputWidgets": {},
     "nuid": "c922bf11-9c8d-47e0-9cf9-2936507f7156",
     "showTitle": false,
     "title": ""
    },
    "execution": {
     "iopub.execute_input": "2023-12-08T08:01:39.204687Z",
     "iopub.status.busy": "2023-12-08T08:01:39.203880Z",
     "iopub.status.idle": "2023-12-08T08:01:39.218277Z",
     "shell.execute_reply": "2023-12-08T08:01:39.217359Z"
    },
    "papermill": {
     "duration": 0.044559,
     "end_time": "2023-12-08T08:01:39.221201",
     "exception": false,
     "start_time": "2023-12-08T08:01:39.176642",
     "status": "completed"
    },
    "tags": []
   },
   "outputs": [],
   "source": [
    "# Select (prediction, true label) and compute test error\n",
    "acc_evaluator = MulticlassClassificationEvaluator(labelCol=\"BBQ_weather\", predictionCol=\"prediction\", metricName=\"accuracy\")"
   ]
  },
  {
   "cell_type": "code",
   "execution_count": 0,
   "metadata": {
    "application/vnd.databricks.v1+cell": {
     "cellMetadata": {
      "byteLimit": 2048000,
      "rowLimit": 10000
     },
     "inputWidgets": {},
     "nuid": "a714699f-28b7-4025-8151-ea1181f82930",
     "showTitle": false,
     "title": ""
    },
    "execution": {
     "iopub.execute_input": "2023-12-08T08:01:39.274928Z",
     "iopub.status.busy": "2023-12-08T08:01:39.274135Z",
     "iopub.status.idle": "2023-12-08T08:01:40.580044Z",
     "shell.execute_reply": "2023-12-08T08:01:40.578578Z"
    },
    "papermill": {
     "duration": 1.336835,
     "end_time": "2023-12-08T08:01:40.584274",
     "exception": false,
     "start_time": "2023-12-08T08:01:39.247439",
     "status": "completed"
    },
    "tags": []
   },
   "outputs": [],
   "source": [
    "dtc_acc = acc_evaluator.evaluate(dtc_predictions)\n",
    "rfc_acc = acc_evaluator.evaluate(rfc_predictions)\n",
    "gbt_acc = acc_evaluator.evaluate(gbt_predictions)"
   ]
  },
  {
   "cell_type": "code",
   "execution_count": 0,
   "metadata": {
    "application/vnd.databricks.v1+cell": {
     "cellMetadata": {
      "byteLimit": 2048000,
      "rowLimit": 10000
     },
     "inputWidgets": {},
     "nuid": "bdf7b290-598e-42f9-8a33-7f65c6d40cf9",
     "showTitle": false,
     "title": ""
    },
    "execution": {
     "iopub.execute_input": "2023-12-08T08:01:40.637494Z",
     "iopub.status.busy": "2023-12-08T08:01:40.636702Z",
     "iopub.status.idle": "2023-12-08T08:01:40.644864Z",
     "shell.execute_reply": "2023-12-08T08:01:40.643686Z"
    },
    "papermill": {
     "duration": 0.028878,
     "end_time": "2023-12-08T08:01:40.646813",
     "exception": false,
     "start_time": "2023-12-08T08:01:40.617935",
     "status": "completed"
    },
    "tags": []
   },
   "outputs": [
    {
     "output_type": "stream",
     "name": "stdout",
     "output_type": "stream",
     "text": [
      "--------------------------------------------------------------------------------\nA single decision tree had an accuracy of: 99.55%\n--------------------------------------------------------------------------------\nA random forest ensemble had an accuracy of: 99.64%\n--------------------------------------------------------------------------------\nA ensemble using GBT had an accuracy of: 99.46%\n"
     ]
    }
   ],
   "source": [
    "print('-'*80)\n",
    "print('A single decision tree had an accuracy of: {0:2.2f}%'.format(dtc_acc*100))\n",
    "print('-'*80)\n",
    "print('A random forest ensemble had an accuracy of: {0:2.2f}%'.format(rfc_acc*100))\n",
    "print('-'*80)\n",
    "print('A ensemble using GBT had an accuracy of: {0:2.2f}%'.format(gbt_acc*100))"
   ]
  },
  {
   "cell_type": "markdown",
   "metadata": {
    "application/vnd.databricks.v1+cell": {
     "cellMetadata": {
      "byteLimit": 2048000,
      "rowLimit": 10000
     },
     "inputWidgets": {},
     "nuid": "09d8ac16-a37f-4737-965f-1fd735bc62c5",
     "showTitle": false,
     "title": ""
    },
    "papermill": {
     "duration": 0.017869,
     "end_time": "2023-12-08T08:01:40.682295",
     "exception": false,
     "start_time": "2023-12-08T08:01:40.664426",
     "status": "completed"
    },
    "tags": []
   },
   "source": [
    "All methods have the accuracy of 1 (this is the same result obtained using RandomForestClassifier from sklearn.ensemble in the other notebook). "
   ]
  },
  {
   "cell_type": "markdown",
   "metadata": {
    "application/vnd.databricks.v1+cell": {
     "cellMetadata": {
      "byteLimit": 2048000,
      "rowLimit": 10000
     },
     "inputWidgets": {},
     "nuid": "f8ca0044-2a27-465a-873b-a0af95e5affe",
     "showTitle": false,
     "title": ""
    }
   },
   "source": [
    "#Save the best model"
   ]
  },
  {
   "cell_type": "code",
   "execution_count": 0,
   "metadata": {
    "application/vnd.databricks.v1+cell": {
     "cellMetadata": {
      "byteLimit": 2048000,
      "rowLimit": 10000
     },
     "inputWidgets": {},
     "nuid": "160c2127-68e8-46a5-8285-beccd491ecee",
     "showTitle": false,
     "title": ""
    }
   },
   "outputs": [
    {
     "output_type": "stream",
     "name": "stdout",
     "output_type": "stream",
     "text": [
      "Out[23]: True"
     ]
    }
   ],
   "source": [
    "# Remove folder recursively using dbutils.fs.rm\n",
    "dbutils.fs.rm(\"/tmp/mllib-persistence-example/\", True)"
   ]
  },
  {
   "cell_type": "code",
   "execution_count": 0,
   "metadata": {
    "application/vnd.databricks.v1+cell": {
     "cellMetadata": {
      "byteLimit": 2048000,
      "rowLimit": 10000
     },
     "inputWidgets": {},
     "nuid": "ff87e1a6-5303-4caa-a988-87be79f7e63a",
     "showTitle": false,
     "title": ""
    }
   },
   "outputs": [
    {
     "output_type": "display_data",
     "data": {
      "text/html": [
       "<style scoped>\n",
       "  .ansiout {\n",
       "    display: block;\n",
       "    unicode-bidi: embed;\n",
       "    white-space: pre-wrap;\n",
       "    word-wrap: break-word;\n",
       "    word-break: break-all;\n",
       "    font-family: \"Menlo\", \"Monaco\", \"Consolas\", \"Ubuntu Mono\", \"Source Code Pro\", monospace;\n",
       "    font-size: 13px;\n",
       "    color: #555;\n",
       "    margin-left: 4px;\n",
       "    line-height: 19px;\n",
       "  }\n",
       "</style>\n",
       "<div class=\"ansiout\">basePath: String = /tmp/mllib-persistence-example\n",
       "res0: Boolean = true\n",
       "</div>"
      ]
     },
     "metadata": {
      "application/vnd.databricks.v1+output": {
       "addedWidgets": {},
       "arguments": {},
       "data": "<div class=\"ansiout\">basePath: String = /tmp/mllib-persistence-example\nres0: Boolean = true\n</div>",
       "datasetInfos": [],
       "metadata": {
        "isDbfsCommandResult": false
       },
       "removedWidgets": [],
       "type": "html"
      }
     },
     "output_type": "display_data"
    }
   ],
   "source": [
    "%scala\n",
    "val basePath = \"/tmp/mllib-persistence-example\"\n",
    "dbutils.fs.rm(basePath, recurse=true)\n",
    "dbutils.fs.mkdirs(basePath)"
   ]
  },
  {
   "cell_type": "code",
   "execution_count": 0,
   "metadata": {
    "application/vnd.databricks.v1+cell": {
     "cellMetadata": {
      "byteLimit": 2048000,
      "rowLimit": 10000
     },
     "inputWidgets": {},
     "nuid": "39b7aef3-a58b-4f45-9e54-125f54f1370f",
     "showTitle": false,
     "title": ""
    }
   },
   "outputs": [],
   "source": [
    "%py\n",
    "basePath = \"/tmp/mllib-persistence-example\"\n",
    "dtc_model.save(basePath + \"/dtc_model\")\n",
    "rfc_model.save(basePath + \"/rfc_model\")\n",
    "gbt_model.save(basePath + \"/gbt_model\")"
   ]
  }
 ],
 "metadata": {
  "application/vnd.databricks.v1+notebook": {
   "dashboards": [],
   "language": "python",
   "notebookMetadata": {
    "mostRecentlyExecutedCommandWithImplicitDF": {
     "commandId": 2136006158753375,
     "dataframes": [
      "_sqldf"
     ]
    },
    "pythonIndentUnit": 4
   },
   "notebookName": "1.Oslo-ML-Model-Training",
   "widgets": {}
  },
  "kaggle": {
   "accelerator": "gpu",
   "dataSources": [
    {
     "datasetId": 2459900,
     "sourceId": 4167948,
     "sourceType": "datasetVersion"
    }
   ],
   "dockerImageVersionId": 30616,
   "isGpuEnabled": true,
   "isInternetEnabled": true,
   "language": "python",
   "sourceType": "notebook"
  },
  "kernelspec": {
   "display_name": "Python 3",
   "language": "python",
   "name": "python3"
  },
  "language_info": {
   "codemirror_mode": {
    "name": "ipython",
    "version": 3
   },
   "file_extension": ".py",
   "mimetype": "text/x-python",
   "name": "python",
   "nbconvert_exporter": "python",
   "pygments_lexer": "ipython3",
   "version": "3.10.0"
  },
  "papermill": {
   "default_parameters": {},
   "duration": 87.895133,
   "end_time": "2023-12-08T08:01:43.321114",
   "environment_variables": {},
   "exception": null,
   "input_path": "__notebook__.ipynb",
   "output_path": "__notebook__.ipynb",
   "parameters": {},
   "start_time": "2023-12-08T08:00:15.425981",
   "version": "2.4.0"
  }
 },
 "nbformat": 4,
 "nbformat_minor": 0
}
